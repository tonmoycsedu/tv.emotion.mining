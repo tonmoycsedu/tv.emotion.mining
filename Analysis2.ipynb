{
 "cells": [
  {
   "cell_type": "code",
   "execution_count": 3,
   "metadata": {
    "collapsed": true
   },
   "outputs": [],
   "source": [
    "#Function to read csv files\n",
    "from csv import reader\n",
    "# Load a CSV file\\n\",\n",
    "def load_csv(filename):\n",
    "    dataset = list()\n",
    "    with open(filename, 'r') as file:\n",
    "        csv_reader = reader(file)\n",
    "        for row in csv_reader:\n",
    "            if not row:\n",
    "                continue\n",
    "            dataset.append(row)\n",
    "    return dataset"
   ]
  },
  {
   "cell_type": "code",
   "execution_count": 45,
   "metadata": {
    "collapsed": true
   },
   "outputs": [],
   "source": [
    "#function to write in csv\n",
    "import csv\n",
    "def write_list_in_file(final, name):\n",
    "    with open(name, \"w\", newline=\"\",encoding=\"utf8\") as fp:\n",
    "        a = csv.writer(fp, delimiter=',')\n",
    "        a.writerows(final)"
   ]
  },
  {
   "cell_type": "code",
   "execution_count": 32,
   "metadata": {
    "collapsed": false
   },
   "outputs": [
    {
     "name": "stdout",
     "output_type": "stream",
     "text": [
      "15260 12472\n",
      "0.5502668397519112\n",
      "0.44973316024808885\n"
     ]
    }
   ],
   "source": [
    "#Function to find male/female count\n",
    "import os\n",
    "import csv\n",
    "path = './natok'\n",
    "m = 0\n",
    "f = 0\n",
    "\n",
    "\n",
    "for filename in os.listdir(path):\n",
    "    data = load_csv(path+'/'+filename)\n",
    "    #print(data[1])\n",
    "    for i in range(1,len(data)):\n",
    "        try:          \n",
    "            gender = data[i][6] \n",
    "            #print(data[i][3])\n",
    "            if(gender == 'Male'):\n",
    "                #print(\"ffff\"+gender)\n",
    "                m = m+1\n",
    "    \n",
    "            elif(gender == 'Female'):\n",
    "                f = f+1\n",
    "\n",
    "        except:\n",
    "            continue\n",
    "print(m,f)\n",
    "print(m/(m+f))\n",
    "print(f/(m+f))\n",
    " "
   ]
  },
  {
   "cell_type": "code",
   "execution_count": 58,
   "metadata": {
    "collapsed": false
   },
   "outputs": [
    {
     "name": "stdout",
     "output_type": "stream",
     "text": [
      "65.56843039\n"
     ]
    }
   ],
   "source": [
    "str = \"[ 68.90718297  53.90747857  65.56843039]\"\n",
    "import re\n",
    "s = \"38.00,SALE ,15.20\"\n",
    "p = re.compile(r'\\d+\\.\\d+')  # Compile a pattern to capture float values\n",
    "floats = [float(i) for i in p.findall(str)]  # Convert strings to float\n",
    "print(floats[2])"
   ]
  },
  {
   "cell_type": "code",
   "execution_count": 66,
   "metadata": {
    "collapsed": false
   },
   "outputs": [
    {
     "ename": "IndexError",
     "evalue": "list assignment index out of range",
     "output_type": "error",
     "traceback": [
      "\u001b[0;31m---------------------------------------------------------------------------\u001b[0m",
      "\u001b[0;31mIndexError\u001b[0m                                Traceback (most recent call last)",
      "\u001b[0;32m<ipython-input-66-e4b8b5cfdc4a>\u001b[0m in \u001b[0;36m<module>\u001b[0;34m()\u001b[0m\n\u001b[1;32m     41\u001b[0m                 \u001b[0mmyTable1\u001b[0m\u001b[1;33m[\u001b[0m\u001b[0min1\u001b[0m\u001b[1;33m]\u001b[0m\u001b[1;33m.\u001b[0m\u001b[0mappend\u001b[0m\u001b[1;33m(\u001b[0m\u001b[0mrgb\u001b[0m\u001b[1;33m[\u001b[0m\u001b[1;36m1\u001b[0m\u001b[1;33m]\u001b[0m\u001b[1;33m)\u001b[0m\u001b[1;33m\u001b[0m\u001b[0m\n\u001b[0;32m---> 42\u001b[0;31m                 \u001b[0mmyTable1\u001b[0m\u001b[1;33m[\u001b[0m\u001b[0min1\u001b[0m\u001b[1;33m]\u001b[0m\u001b[1;33m.\u001b[0m\u001b[0mappend\u001b[0m\u001b[1;33m(\u001b[0m\u001b[0mrgb\u001b[0m\u001b[1;33m[\u001b[0m\u001b[1;36m2\u001b[0m\u001b[1;33m]\u001b[0m\u001b[1;33m)\u001b[0m\u001b[1;33m\u001b[0m\u001b[0m\n\u001b[0m\u001b[1;32m     43\u001b[0m                 \u001b[0min1\u001b[0m \u001b[1;33m+=\u001b[0m \u001b[1;36m1\u001b[0m\u001b[1;33m\u001b[0m\u001b[0m\n",
      "\u001b[0;31mIndexError\u001b[0m: list index out of range",
      "\nDuring handling of the above exception, another exception occurred:\n",
      "\u001b[0;31mIndexError\u001b[0m                                Traceback (most recent call last)",
      "\u001b[0;32m<ipython-input-66-e4b8b5cfdc4a>\u001b[0m in \u001b[0;36m<module>\u001b[0;34m()\u001b[0m\n\u001b[1;32m     44\u001b[0m             \u001b[1;32mexcept\u001b[0m\u001b[1;33m:\u001b[0m\u001b[1;33m\u001b[0m\u001b[0m\n\u001b[1;32m     45\u001b[0m                 \u001b[1;32mdel\u001b[0m \u001b[0mmyTable1\u001b[0m\u001b[1;33m[\u001b[0m\u001b[0min1\u001b[0m\u001b[1;33m]\u001b[0m\u001b[1;33m[\u001b[0m\u001b[1;36m0\u001b[0m\u001b[1;33m]\u001b[0m\u001b[1;33m\u001b[0m\u001b[0m\n\u001b[0;32m---> 46\u001b[0;31m                 \u001b[1;32mdel\u001b[0m \u001b[0mmyTable1\u001b[0m\u001b[1;33m[\u001b[0m\u001b[0min1\u001b[0m\u001b[1;33m]\u001b[0m\u001b[1;33m[\u001b[0m\u001b[1;36m1\u001b[0m\u001b[1;33m]\u001b[0m\u001b[1;33m\u001b[0m\u001b[0m\n\u001b[0m\u001b[1;32m     47\u001b[0m                 \u001b[1;32mcontinue\u001b[0m\u001b[1;33m\u001b[0m\u001b[0m\n\u001b[1;32m     48\u001b[0m \u001b[1;33m\u001b[0m\u001b[0m\n",
      "\u001b[0;31mIndexError\u001b[0m: list assignment index out of range"
     ]
    }
   ],
   "source": [
    "#Function to find male/female count\n",
    "import os\n",
    "import csv\n",
    "import re\n",
    "\n",
    "path = './natok'\n",
    "myTable1 = []\n",
    "myTable2 = []\n",
    "\n",
    "myTable1.append([])\n",
    "myTable1[0].append(\"R\")\n",
    "myTable1[0].append(\"G\")\n",
    "myTable1[0].append(\"B\")\n",
    "\n",
    "myTable2.append([])\n",
    "myTable2[0].append(\"R\")\n",
    "myTable2[0].append(\"G\")\n",
    "myTable2[0].append(\"B\")\n",
    "\n",
    "p = re.compile(r'\\d+\\.\\d+')  # Compile a pattern to capture float values\n",
    "\n",
    "in1 = 1 \n",
    "in2 = 1\n",
    "\n",
    "for filename in os.listdir(path):\n",
    "    data = load_csv(path+'/'+filename)\n",
    "    #print(data[1])\n",
    "    for i in range(1,len(data)):\n",
    "        try:          \n",
    "            rgb = [float(i) for i in p.findall(data[i][4])]  # Convert strings to float \n",
    "            #print(rgb)\n",
    "            gender = data[i][6]\n",
    "        except Exception as e:\n",
    "            print(e)\n",
    "            continue\n",
    "            \n",
    "        if(gender == 'Male'):\n",
    "            try:\n",
    "                myTable1.append([])\n",
    "                myTable1[in1].append(rgb[0])\n",
    "                myTable1[in1].append(rgb[1])\n",
    "                myTable1[in1].append(rgb[2])\n",
    "                in1 += 1\n",
    "            except:\n",
    "                in1 += 1\n",
    "                continue\n",
    "\n",
    "        elif(gender == 'Female'):\n",
    "            try:\n",
    "                myTable2.append([])\n",
    "                myTable2[in2].append(rgb[0])\n",
    "                myTable2[in2].append(rgb[1])\n",
    "                myTable2[in2].append(rgb[2])\n",
    "                in2 += 1\n",
    "            except:\n",
    "                in2 += 1\n",
    "                continue\n",
    "\n",
    "        \n",
    "\n",
    "write_list_in_file(myTable1, \"male_natok_rgb.csv\")\n",
    "write_list_in_file(myTable2, \"female_natok_rgb.csv\")\n",
    " "
   ]
  },
  {
   "cell_type": "code",
   "execution_count": null,
   "metadata": {
    "collapsed": true
   },
   "outputs": [],
   "source": [
    "import os\n",
    "import csv\n",
    "import re\n",
    "\n",
    "path = './natok'\n",
    "for filename in os.listdir(path):\n",
    "    data = load_csv(path+'/'+filename)\n",
    "    #print(data[1])\n",
    "    for i in range(1,len(data)):"
   ]
  },
  {
   "cell_type": "code",
   "execution_count": 33,
   "metadata": {
    "collapsed": false
   },
   "outputs": [
    {
     "name": "stdout",
     "output_type": "stream",
     "text": [
      "[4712, 10133, 415] [5185, 6856, 431]\n"
     ]
    }
   ],
   "source": [
    "#Function to find male/female pose count\n",
    "import os\n",
    "import csv\n",
    "path = './natok'\n",
    "m_pose = []\n",
    "f_pose = []\n",
    "\n",
    "for i in range(0,3):\n",
    "    m_pose.append(0)\n",
    "    f_pose.append(0)\n",
    "    \n",
    "#print(m_pose)\n",
    "\n",
    "for filename in os.listdir(path):\n",
    "    data = load_csv(path+'/'+filename)\n",
    "    #print(data[1])\n",
    "    for i in range(1,len(data)):\n",
    "        try:          \n",
    "            pose = eval(data[i][5])\n",
    "            gender = data[i][6]\n",
    "            #print(data[i][3])\n",
    "            if(pose[0][1] > pose[1][1]):\n",
    "                if(gender == 'Male'):\n",
    "                    m_pose[0] += 1\n",
    "                \n",
    "                elif(gender == 'Female'):\n",
    "                    f_pose[0] += 1\n",
    "                    \n",
    "            elif(pose[0][1] < pose[1][1]):\n",
    "                if(gender == 'Male'):\n",
    "                    m_pose[1] += 1\n",
    "                \n",
    "                elif(gender == 'Female'):\n",
    "                    f_pose[1] += 1\n",
    "                    \n",
    "            elif(pose[0][1] == pose[1][1]):\n",
    "                if(gender == 'Male'):\n",
    "                    m_pose[2] += 1\n",
    "                \n",
    "                elif(gender == 'Female'):\n",
    "                    f_pose[2] += 1            \n",
    "\n",
    "        except:\n",
    "            continue\n",
    "            \n",
    "print(m_pose,f_pose)\n",
    "# print(m/(m+f))\n",
    "# print(f/(m+f))\n",
    " "
   ]
  },
  {
   "cell_type": "code",
   "execution_count": 35,
   "metadata": {
    "collapsed": false
   },
   "outputs": [
    {
     "name": "stdout",
     "output_type": "stream",
     "text": [
      "[4712, 10133, 415] [5185, 6856, 431]\n"
     ]
    }
   ],
   "source": [
    "#Function to find male/female pose histogram\n",
    "import os\n",
    "import csv\n",
    "path = './natok'\n",
    "m_pose = []\n",
    "f_pose = []\n",
    "m_up = []\n",
    "m_down = []\n",
    "f_up = []\n",
    "f_down = []\n",
    "\n",
    "for i in range(0,3):\n",
    "    m_pose.append(0)\n",
    "    f_pose.append(0)\n",
    "    \n",
    "#print(m_pose)\n",
    "\n",
    "for filename in os.listdir(path):\n",
    "    data = load_csv(path+'/'+filename)\n",
    "    #print(data[1])\n",
    "    for i in range(1,len(data)):\n",
    "        try:          \n",
    "            pose = eval(data[i][5])\n",
    "            gender = data[i][6]\n",
    "            slope =  (pose[1][1]-pose[0][1])/(pose[1][0]-pose[0][0])\n",
    "            #print(data[i][3])\n",
    "            if(pose[0][1] > pose[1][1]):\n",
    "                if(gender == 'Male'):\n",
    "                    m_pose[0] += 1\n",
    "                    m_down.append(slope)\n",
    "                \n",
    "                elif(gender == 'Female'):\n",
    "                    f_pose[0] += 1\n",
    "                    f_down.append(slope)\n",
    "                    \n",
    "            elif(pose[0][1] < pose[1][1]):\n",
    "                if(gender == 'Male'):\n",
    "                    m_pose[1] += 1\n",
    "                    m_up.append(slope)\n",
    "                \n",
    "                elif(gender == 'Female'):\n",
    "                    f_pose[1] += 1\n",
    "                    f_up.append(slope)\n",
    "                    \n",
    "            elif(pose[0][1] == pose[1][1]):\n",
    "                if(gender == 'Male'):\n",
    "                    m_pose[2] += 1\n",
    "                \n",
    "                elif(gender == 'Female'):\n",
    "                    f_pose[2] += 1            \n",
    "\n",
    "        except:\n",
    "            continue\n",
    "            \n",
    "print(m_pose,f_pose)\n",
    "# print(m/(m+f))\n",
    "# print(f/(m+f))\n",
    " \n"
   ]
  },
  {
   "cell_type": "code",
   "execution_count": 39,
   "metadata": {
    "collapsed": false
   },
   "outputs": [
    {
     "data": {
      "image/png": "[encoded data removed]",
      "text/plain": [
       "<matplotlib.figure.Figure at 0xb78aa9470>"
      ]
     },
     "metadata": {},
     "output_type": "display_data"
    }
   ],
   "source": [
    "import matplotlib.pyplot as plt\n",
    "plt.hist(m_up, 50,normed=1, facecolor='green')\n",
    "plt.show()"
   ]
  },
  {
   "cell_type": "code",
   "execution_count": 40,
   "metadata": {
    "collapsed": false
   },
   "outputs": [
    {
     "data": {
      "image/png": "[encoded data removed]",
      "text/plain": [
       "<matplotlib.figure.Figure at 0xb768b2c50>"
      ]
     },
     "metadata": {},
     "output_type": "display_data"
    }
   ],
   "source": [
    "import matplotlib.pyplot as plt\n",
    "plt.hist(f_up, 50,normed=1, facecolor='green')\n",
    "plt.show()"
   ]
  },
  {
   "cell_type": "code",
   "execution_count": 41,
   "metadata": {
    "collapsed": false
   },
   "outputs": [
    {
     "data": {
      "image/png": "[encoded data removed]",
      "text/plain": [
       "<matplotlib.figure.Figure at 0xb795075c0>"
      ]
     },
     "metadata": {},
     "output_type": "display_data"
    }
   ],
   "source": [
    "import matplotlib.pyplot as plt\n",
    "plt.hist(f_down, 50,normed=1, facecolor='green')\n",
    "plt.show()"
   ]
  },
  {
   "cell_type": "code",
   "execution_count": 68,
   "metadata": {
    "collapsed": false
   },
   "outputs": [
    {
     "data": {
      "image/png": "[encoded data removed]",
      "text/plain": [
       "<matplotlib.figure.Figure at 0xb79dbd400>"
      ]
     },
     "metadata": {},
     "output_type": "display_data"
    },
    {
     "data": {
      "image/png": "[encoded data removed]",
      "text/plain": [
       "<matplotlib.figure.Figure at 0xb768ade10>"
      ]
     },
     "metadata": {},
     "output_type": "display_data"
    }
   ],
   "source": [
    "\"\"\"\n",
    "=========================================\n",
    "Demo of artist customization in box plots\n",
    "=========================================\n",
    "\n",
    "This example demonstrates how to use the various kwargs\n",
    "to fully customize box plots. The first figure demonstrates\n",
    "how to remove and add individual components (note that the\n",
    "mean is the only value not shown by default). The second\n",
    "figure demonstrates how the styles of the artists can\n",
    "be customized. It also demonstrates how to set the limit\n",
    "of the whiskers to specific percentiles (lower right axes)\n",
    "\n",
    "A good general reference on boxplots and their history can be found\n",
    "here: http://vita.had.co.nz/papers/boxplots.pdf\n",
    "\n",
    "\"\"\"\n",
    "\n",
    "import numpy as np\n",
    "import matplotlib.pyplot as plt\n",
    "\n",
    "# fake data\n",
    "np.random.seed(937)\n",
    "data = np.random.lognormal(size=(37, 4), mean=1.5, sigma=1.75)\n",
    "labels = list('ABCD')\n",
    "fs = 10  # fontsize\n",
    "\n",
    "# demonstrate how to toggle the display of different elements:\n",
    "fig, axes = plt.subplots(nrows=2, ncols=3, figsize=(12, 12), sharey=True)\n",
    "axes[0, 0].boxplot(data, labels=labels)\n",
    "axes[0, 0].set_title('Default', fontsize=fs)\n",
    "\n",
    "axes[0, 1].boxplot(data, labels=labels, showmeans=True)\n",
    "axes[0, 1].set_title('showmeans=True', fontsize=fs)\n",
    "\n",
    "axes[0, 2].boxplot(data, labels=labels, showmeans=True, meanline=True)\n",
    "axes[0, 2].set_title('showmeans=True,\\nmeanline=True', fontsize=fs)\n",
    "\n",
    "axes[1, 0].boxplot(data, labels=labels, showbox=False, showcaps=False)\n",
    "tufte_title = 'Tufte Style \\n(showbox=False,\\nshowcaps=False)'\n",
    "axes[1, 0].set_title(tufte_title, fontsize=fs)\n",
    "\n",
    "axes[1, 1].boxplot(data, labels=labels, notch=True, bootstrap=10000)\n",
    "axes[1, 1].set_title('notch=True,\\nbootstrap=10000', fontsize=fs)\n",
    "\n",
    "axes[1, 2].boxplot(data, labels=labels, showfliers=False)\n",
    "axes[1, 2].set_title('showfliers=False', fontsize=fs)\n",
    "\n",
    "for ax in axes.flatten():\n",
    "    ax.set_yscale('log')\n",
    "    ax.set_yticklabels([])\n",
    "\n",
    "fig.subplots_adjust(hspace=0.4)\n",
    "plt.show()\n",
    "\n",
    "\n",
    "# demonstrate how to customize the display different elements:\n",
    "boxprops = dict(linestyle='--', linewidth=3, color='darkgoldenrod')\n",
    "flierprops = dict(marker='o', markerfacecolor='green', markersize=12,\n",
    "                  linestyle='none')\n",
    "medianprops = dict(linestyle='-.', linewidth=2.5, color='firebrick')\n",
    "meanpointprops = dict(marker='D', markeredgecolor='black',\n",
    "                      markerfacecolor='firebrick')\n",
    "meanlineprops = dict(linestyle='--', linewidth=2.5, color='purple')\n",
    "\n",
    "fig, axes = plt.subplots(nrows=2, ncols=3, figsize=(6, 6), sharey=True)\n",
    "axes[0, 0].boxplot(data, boxprops=boxprops)\n",
    "axes[0, 0].set_title('Custom boxprops', fontsize=fs)\n",
    "\n",
    "axes[0, 1].boxplot(data, flierprops=flierprops, medianprops=medianprops)\n",
    "axes[0, 1].set_title('Custom medianprops\\nand flierprops', fontsize=fs)\n",
    "\n",
    "axes[0, 2].boxplot(data, whis='range')\n",
    "axes[0, 2].set_title('whis=\"range\"', fontsize=fs)\n",
    "\n",
    "axes[1, 0].boxplot(data, meanprops=meanpointprops, meanline=False,\n",
    "                   showmeans=True)\n",
    "axes[1, 0].set_title('Custom mean\\nas point', fontsize=fs)\n",
    "\n",
    "axes[1, 1].boxplot(data, meanprops=meanlineprops, meanline=True,\n",
    "                   showmeans=True)\n",
    "axes[1, 1].set_title('Custom mean\\nas line', fontsize=fs)\n",
    "\n",
    "axes[1, 2].boxplot(data, whis=[15, 85])\n",
    "axes[1, 2].set_title('whis=[15, 85]\\n#percentiles', fontsize=fs)\n",
    "\n",
    "for ax in axes.flatten():\n",
    "    ax.set_yscale('log')\n",
    "    ax.set_yticklabels([])\n",
    "\n",
    "fig.suptitle(\"I never said they'd be pretty\")\n",
    "fig.subplots_adjust(hspace=0.4)\n",
    "plt.show()"
   ]
  },
  {
   "cell_type": "code",
   "execution_count": null,
   "metadata": {
    "collapsed": true
   },
   "outputs": [],
   "source": []
  }
 ],
 "metadata": {
  "kernelspec": {
   "display_name": "Python 3",
   "language": "python",
   "name": "python3"
  },
  "language_info": {
   "codemirror_mode": {
    "name": "ipython",
    "version": 3
   },
   "file_extension": ".py",
   "mimetype": "text/x-python",
   "name": "python",
   "nbconvert_exporter": "python",
   "pygments_lexer": "ipython3",
   "version": "3.6.0"
  }
 },
 "nbformat": 4,
 "nbformat_minor": 2
}
