{
 "cells": [
  {
   "cell_type": "code",
   "execution_count": 1,
   "metadata": {
    "collapsed": true
   },
   "outputs": [],
   "source": [
    "#Function to read csv files\n",
    "from csv import reader\n",
    "# Load a CSV file\\n\",\n",
    "def load_csv(filename):\n",
    "    dataset = list()\n",
    "    with open(filename, 'r') as file:\n",
    "        csv_reader = reader(file)\n",
    "        for row in csv_reader:\n",
    "            if not row:\n",
    "                continue\n",
    "            dataset.append(row)\n",
    "    return dataset"
   ]
  },
  {
   "cell_type": "code",
   "execution_count": 9,
   "metadata": {},
   "outputs": [
    {
     "name": "stdout",
     "output_type": "stream",
     "text": [
      "2006 1775\n",
      "0.5305474742131712\n",
      "0.4694525257868289\n"
     ]
    }
   ],
   "source": [
    "#Function to find male/female count\n",
    "import os\n",
    "import csv\n",
    "path = './new csv files/natok/2017'\n",
    "m = 0\n",
    "f = 0\n",
    "\n",
    "\n",
    "for filename in os.listdir(path):\n",
    "    data = load_csv(path+'/'+filename)\n",
    "    #print(data[1])\n",
    "    for i in range(1,len(data)):\n",
    "        try:          \n",
    "            gender = data[i][6] \n",
    "            #print(data[i][3])\n",
    "            if(gender == 'Male'):\n",
    "                #print(\"ffff\"+gender)\n",
    "                m = m+1\n",
    "    \n",
    "            elif(gender == 'Female'):\n",
    "                f = f+1\n",
    "\n",
    "        except:\n",
    "            continue\n",
    "print(m,f)\n",
    "print(m/(m+f))\n",
    "print(f/(m+f))\n",
    " "
   ]
  },
  {
   "cell_type": "code",
   "execution_count": 18,
   "metadata": {},
   "outputs": [
    {
     "name": "stdout",
     "output_type": "stream",
     "text": [
      "0.3778664007976072 0.6141575274177468 0.007976071784646061\n",
      "0.40901408450704224 0.5814084507042253 0.009577464788732394\n"
     ]
    }
   ],
   "source": [
    "#Function to find male/female pose count\n",
    "import os\n",
    "import csv\n",
    "path = './new csv files/natok/2017'\n",
    "m_pose = []\n",
    "f_pose = []\n",
    "\n",
    "for i in range(0,3):\n",
    "    m_pose.append(0)\n",
    "    f_pose.append(0)\n",
    "    \n",
    "#print(m_pose)\n",
    "\n",
    "for filename in os.listdir(path):\n",
    "    data = load_csv(path+'/'+filename)\n",
    "    #print(data[1])\n",
    "    for i in range(1,len(data)):\n",
    "        try:          \n",
    "            pose = eval(data[i][5])\n",
    "            gender = data[i][6]\n",
    "            #print(data[i][3])\n",
    "            if(pose[0][1] > pose[1][1]):\n",
    "                if(gender == 'Male'):\n",
    "                    m_pose[0] += 1\n",
    "                \n",
    "                elif(gender == 'Female'):\n",
    "                    f_pose[0] += 1\n",
    "                    \n",
    "            elif(pose[0][1] < pose[1][1]):\n",
    "                if(gender == 'Male'):\n",
    "                    m_pose[1] += 1\n",
    "                \n",
    "                elif(gender == 'Female'):\n",
    "                    f_pose[1] += 1\n",
    "                    \n",
    "            elif(pose[0][1] == pose[1][1]):\n",
    "                if(gender == 'Male'):\n",
    "                    m_pose[2] += 1\n",
    "                \n",
    "                elif(gender == 'Female'):\n",
    "                    f_pose[2] += 1            \n",
    "\n",
    "        except:\n",
    "            print(filename)\n",
    "            print(i)\n",
    "            continue\n",
    "\n",
    "m = m_pose[0]+m_pose[1]+m_pose[2]\n",
    "f = f_pose[0]+f_pose[1]+f_pose[2]\n",
    "#for i in range(0,3):\n",
    "print(m_pose[0]/m,m_pose[1]/m,m_pose[2]/m)\n",
    "print(f_pose[0]/f,f_pose[1]/f,f_pose[2]/f)\n",
    "# print(m/(m+f))\n",
    "# print(f/(m+f))"
   ]
  },
  {
   "cell_type": "code",
   "execution_count": null,
   "metadata": {
    "collapsed": true
   },
   "outputs": [],
   "source": []
  }
 ],
 "metadata": {
  "kernelspec": {
   "display_name": "Python 3",
   "language": "python",
   "name": "python3"
  },
  "language_info": {
   "codemirror_mode": {
    "name": "ipython",
    "version": 3
   },
   "file_extension": ".py",
   "mimetype": "text/x-python",
   "name": "python",
   "nbconvert_exporter": "python",
   "pygments_lexer": "ipython3",
   "version": "3.6.1"
  }
 },
 "nbformat": 4,
 "nbformat_minor": 2
}
