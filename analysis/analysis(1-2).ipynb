{
 "cells": [
  {
   "cell_type": "code",
   "execution_count": 1,
   "metadata": {
    "collapsed": true
   },
   "outputs": [],
   "source": [
    "#Function to read csv files\n",
    "from csv import reader\n",
    "# Load a CSV file\\n\",\n",
    "def load_csv(filename):\n",
    "    dataset = list()\n",
    "    with open(filename, 'r') as file:\n",
    "        csv_reader = reader(file)\n",
    "        for row in csv_reader:\n",
    "            if not row:\n",
    "                continue\n",
    "            dataset.append(row)\n",
    "    return dataset"
   ]
  },
  {
   "cell_type": "code",
   "execution_count": 2,
   "metadata": {},
   "outputs": [
    {
     "name": "stdout",
     "output_type": "stream",
     "text": [
      "25966 24427\n",
      "0.5152699779731312\n",
      "0.4847300220268688\n"
     ]
    }
   ],
   "source": [
    "#Function to find male/female count\n",
    "import os\n",
    "import csv\n",
    "path = './natok'\n",
    "m = 0\n",
    "f = 0\n",
    "\n",
    "\n",
    "for filename in os.listdir(path):\n",
    "    data = load_csv(path+'/'+filename)\n",
    "    #print(data[1])\n",
    "    for i in range(1,len(data)):\n",
    "        try:          \n",
    "            gender = data[i][6] \n",
    "            #print(data[i][3])\n",
    "            if(gender == 'Male'):\n",
    "                #print(\"ffff\"+gender)\n",
    "                m = m+1\n",
    "    \n",
    "            elif(gender == 'Female'):\n",
    "                f = f+1\n",
    "\n",
    "        except:\n",
    "            continue\n",
    "print(m,f)\n",
    "print(m/(m+f))\n",
    "print(f/(m+f))\n",
    " "
   ]
  },
  {
   "cell_type": "code",
   "execution_count": 3,
   "metadata": {},
   "outputs": [
    {
     "name": "stdout",
     "output_type": "stream",
     "text": [
      "[8625, 16738, 603] [10750, 13000, 677]\n"
     ]
    }
   ],
   "source": [
    "#Function to find male/female pose count\n",
    "import os\n",
    "import csv\n",
    "path = './natok'\n",
    "m_pose = []\n",
    "f_pose = []\n",
    "\n",
    "for i in range(0,3):\n",
    "    m_pose.append(0)\n",
    "    f_pose.append(0)\n",
    "    \n",
    "#print(m_pose)\n",
    "\n",
    "for filename in os.listdir(path):\n",
    "    data = load_csv(path+'/'+filename)\n",
    "    #print(data[1])\n",
    "    for i in range(1,len(data)):\n",
    "        try:          \n",
    "            pose = eval(data[i][5])\n",
    "            gender = data[i][6]\n",
    "            #print(data[i][3])\n",
    "            if(pose[0][1] > pose[1][1]):\n",
    "                if(gender == 'Male'):\n",
    "                    m_pose[0] += 1\n",
    "                \n",
    "                elif(gender == 'Female'):\n",
    "                    f_pose[0] += 1\n",
    "                    \n",
    "            elif(pose[0][1] < pose[1][1]):\n",
    "                if(gender == 'Male'):\n",
    "                    m_pose[1] += 1\n",
    "                \n",
    "                elif(gender == 'Female'):\n",
    "                    f_pose[1] += 1\n",
    "                    \n",
    "            elif(pose[0][1] == pose[1][1]):\n",
    "                if(gender == 'Male'):\n",
    "                    m_pose[2] += 1\n",
    "                \n",
    "                elif(gender == 'Female'):\n",
    "                    f_pose[2] += 1            \n",
    "\n",
    "        except:\n",
    "            print(filename)\n",
    "            print(i)\n",
    "            continue\n",
    "            \n",
    "print(m_pose,f_pose)\n",
    "# print(m/(m+f))\n",
    "# print(f/(m+f))"
   ]
  },
  {
   "cell_type": "code",
   "execution_count": null,
   "metadata": {
    "collapsed": true
   },
   "outputs": [],
   "source": []
  }
 ],
 "metadata": {
  "kernelspec": {
   "display_name": "Python 3",
   "language": "python",
   "name": "python3"
  },
  "language_info": {
   "codemirror_mode": {
    "name": "ipython",
    "version": 3
   },
   "file_extension": ".py",
   "mimetype": "text/x-python",
   "name": "python",
   "nbconvert_exporter": "python",
   "pygments_lexer": "ipython3",
   "version": "3.6.1"
  }
 },
 "nbformat": 4,
 "nbformat_minor": 2
}
